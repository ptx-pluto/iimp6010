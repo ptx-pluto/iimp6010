{
 "cells": [
  {
   "cell_type": "markdown",
   "metadata": {
    "pycharm": {
     "name": "#%% md\n"
    }
   },
   "source": [
    "# Computational Exercise 1: Shortest-Path Algorithms  \n",
    "\n",
    "\n",
    "\n",
    "\n",
    "\n",
    "## Problem 1\n",
    "\n",
    "Luca, John, and Jack walk to school every day. Luca starts from his home in building A, John from B, and Jack from C. The school is located in building D. The following city map shows the layout of the city. The edges (roads) are labeled with the time it takes to traverse them (in minutes).\n",
    "\n",
    "\n",
    "\n",
    "fig1\n",
    "\n",
    "### Problem solving track:\n",
    "\n",
    "\n",
    "\n",
    "#### Question A\n",
    "\n",
    "__You are asked to run Dijkstra’s algorithm to compute the path taken by each of the boys to the school. For each boy, list all the nodes that need to be relaxed (in execution order) as well as the optimal path taken.__"
   ]
  },
  {
   "cell_type": "markdown",
   "source": [
    "_write your answer here_"
   ],
   "metadata": {
    "collapsed": false
   }
  },
  {
   "cell_type": "markdown",
   "source": [
    "#### Question B\n",
    "\n",
    "__If Luca leaves home at 8:30am, when do John and Jack need to leave their respective homes so that they will arrive in school at the same time as Luca?__"
   ],
   "metadata": {
    "collapsed": false
   }
  },
  {
   "cell_type": "markdown",
   "source": [
    "_write your answer here_"
   ],
   "metadata": {
    "collapsed": false
   }
  },
  {
   "cell_type": "markdown",
   "source": [
    "#### Question C\n",
    "\n",
    "__You are asked to use Dijkstra’s algorithm to determine which boy has the shortest commute to school. Describe how you would do it efficiently.__\n",
    "\n",
    "_Hint: There is an efficient solution that does not require running Dijkstra’s algorithm independently for each boy._"
   ],
   "metadata": {
    "collapsed": false
   }
  },
  {
   "cell_type": "markdown",
   "source": [
    "_write your answer here_"
   ],
   "metadata": {
    "collapsed": false
   }
  },
  {
   "cell_type": "markdown",
   "source": [
    "### Programming track:\n",
    "\n",
    "\n",
    "\n",
    "#### Question A\n",
    "\n",
    "__Complete the function below. It takes an input city graph that includes nodes labeled A, B, C, D, and outputs the home building of the boy who has the shortest commute to school (i.e., outputs A, B, or C). You must use the function dijkstra() to compute shortest paths as part of your solution. Your solution should minimize the number of times dijkstra() is called.__"
   ],
   "metadata": {
    "collapsed": false
   }
  },
  {
   "cell_type": "code",
   "execution_count": null,
   "outputs": [],
   "source": [
    "# code here"
   ],
   "metadata": {
    "collapsed": false,
    "pycharm": {
     "name": "#%%\n"
    }
   }
  },
  {
   "cell_type": "markdown",
   "source": [
    "## Problem 2\n",
    "\n",
    "The Transportation Department has determined that many commuters need to take buses from the metro station A to the office building B on the graph anove. They have determined that it is feasible to construct a road between nodes nXX and nYY. The added edge representing the road would have a weight of 1. All weights represent time in minutes."
   ],
   "metadata": {
    "collapsed": false
   }
  },
  {
   "cell_type": "code",
   "source": [
    "# code here"
   ],
   "metadata": {
    "collapsed": false,
    "pycharm": {
     "name": "#%%\n"
    }
   },
   "execution_count": null,
   "outputs": []
  },
  {
   "cell_type": "markdown",
   "source": [
    "### Problem Solving Track:\n",
    "\n",
    "\n",
    "\n",
    "#### Question A\n",
    "\n",
    "__By adding such a road, would the commute time between the metro station and the office building be reduced? If so, how much time would be saved?__"
   ],
   "metadata": {
    "collapsed": false
   }
  },
  {
   "cell_type": "markdown",
   "source": [
    "_write your answer here_"
   ],
   "metadata": {
    "collapsed": false,
    "pycharm": {
     "name": "#%% md\n"
    }
   }
  },
  {
   "cell_type": "markdown",
   "source": [
    "#### Question B\n",
    "\n",
    "__You are asked to use Dijkstra’s algorithm to compute the optimal path from the metro station to the office that passes through a city corner nZZ, where you need to briefly meet your friend. Describe how would you use Dijkstra’s algorithm to compute such a path, and list all the nodes that would be relaxed (in execution order).__\n",
    "\n",
    "_Hint: You may use Dijkstra’s algorithm multiple times to solve this problem._"
   ],
   "metadata": {
    "collapsed": false
   }
  },
  {
   "cell_type": "markdown",
   "source": [
    "_write your answer here_"
   ],
   "metadata": {
    "collapsed": false,
    "pycharm": {
     "name": "#%% md\n"
    }
   }
  },
  {
   "cell_type": "markdown",
   "source": [
    "#### Question C\n",
    "\n",
    "__If you could build two more roads between any two adjacent city corners which are currently disconnected, each having a weight of 1, where would you build them so as to further reduce the travel cost of the path from problem b) above. __"
   ],
   "metadata": {
    "collapsed": false,
    "pycharm": {
     "name": "#%% md\n"
    }
   }
  },
  {
   "cell_type": "markdown",
   "source": [
    "_write your answer here_"
   ],
   "metadata": {
    "collapsed": false
   }
  },
  {
   "cell_type": "markdown",
   "source": [
    "### Programming Track:\n",
    "\n",
    "#### Question A\n",
    "\n",
    "Given an arbitrary input city graph that includes nodes labeled A, B, nXX, and nYY, complete the following function to determine what is the highest possible edge cost for the soon-to-be-constructed road nXX between nYY such that the optimal path from A to B will still go through nXX-nYY. Your solution must make calls to the function dijkstra() as needed and is not allowed to alter the city graph.\n",
    "\n",
    "You may assume that:\n",
    "\n",
    "a.\tThe input graph does not currently have an edge between nXX and nYY as the road hasn’t been constructed yet.\n",
    "\n",
    "b.\tIf an edge between nXX and nYY with a weight of 1 were to be added, the shortest path between A and B would go through it."
   ],
   "metadata": {
    "collapsed": false
   }
  },
  {
   "cell_type": "code",
   "source": [
    "# code here"
   ],
   "metadata": {
    "collapsed": false,
    "pycharm": {
     "name": "#%%\n"
    }
   },
   "execution_count": null,
   "outputs": []
  }
 ],
 "metadata": {
  "kernelspec": {
   "display_name": "Python 3",
   "language": "python",
   "name": "python3"
  },
  "language_info": {
   "codemirror_mode": {
    "name": "ipython",
    "version": 3
   },
   "file_extension": ".py",
   "mimetype": "text/x-python",
   "name": "python",
   "nbconvert_exporter": "python",
   "pygments_lexer": "ipython3",
   "version": "3.8.3"
  }
 },
 "nbformat": 4,
 "nbformat_minor": 4
}