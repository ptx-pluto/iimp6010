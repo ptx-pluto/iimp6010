{
 "cells": [
  {
   "cell_type": "markdown",
   "metadata": {},
   "source": [
    "# Welcome to IIMP6010 tutorial\n",
    "\n",
    "Welcome to IIMP6010 tutorial!\n",
    "\n",
    "In this tutorial, you will get familiar with basic python prgramming and manipulation in Jupyter Notebook. \n",
    "If you have no experience in python before, this tutorial will introduce you most of what you need to start your project.\n",
    "\n",
    "This tutorial will cover:\n",
    "\n",
    "* Introduction to Jupyter notebook\n",
    "* Basic python programming\n",
    "    1. Import library\n",
    "    2. Input/Output\n",
    "    3. for loop/while loop/if ...   \n",
    "* Introduction to Networkx library\n",
    "* One exercise\n",
    "\n",
    "**Now let's get started**\n",
    "\n"
   ]
  },
  {
   "cell_type": "markdown",
   "metadata": {},
   "source": [
    "## Jupyter notebook"
   ]
  },
  {
   "cell_type": "markdown",
   "metadata": {},
   "source": [
    "For 6010 programming assignment, you will develop and test your code on Jupyter notebook.\n",
    "\n",
    "We will cover some basic Jupyter notebook manipulations:\n",
    "\n",
    "#### Cells\n",
    "\n",
    "* A **code** cell contains code to be executed in the kernel. When the code is run, the notebook displays the output below the code cell that generated it.\n",
    "\n",
    "* A **Markdown** cell contains text formatted using Markdown and displays its output in-place when the Markdown cell is run.\n",
    "\n",
    "* You can run a cell by clicking the run button or press **Ctrl** + **Enter**"
   ]
  },
  {
   "cell_type": "code",
   "execution_count": null,
   "metadata": {},
   "outputs": [],
   "source": [
    "print(\"hello world\")"
   ]
  },
  {
   "cell_type": "code",
   "execution_count": null,
   "metadata": {},
   "outputs": [],
   "source": [
    "print(\"hello world\")"
   ]
  },
  {
   "cell_type": "markdown",
   "metadata": {},
   "source": [
    "Markdown cell"
   ]
  },
  {
   "cell_type": "markdown",
   "metadata": {},
   "source": [
    "* Cell mode\n",
    "    * <p style=\"color:blue\">Blue</p>  means \"Command mode\"\n",
    "    * <p style=\"color:green\">Green</p>  means \"Edit mode\"\n",
    "    \n",
    "    * Toggle between edit and command mode with **Esc** and **Enter**, respectively."
   ]
  },
  {
   "cell_type": "markdown",
   "metadata": {},
   "source": [
    "####  Keyboard Shortcuts\n",
    "\n",
    "* In Command mode\n",
    "    * Scroll up and down your cells with your **Up** and **Down** keys.\n",
    "    * Press **A** or **B** to insert a new cell above or below the active cell.\n",
    "    * **M** will transform the active cell to a Markdown cell.\n",
    "    * **Y** will set the active cell to a code cell.\n",
    "    * **D** + **D** (D twice) will delete the active cell.\n",
    "    * **Z** will undo cell deletion.\n",
    "    * Hold **Shift** and press **Up** or **Down** to select multiple cells at once. With multiple cells selected, **Shift** + **M** will merge your selection.\n",
    "\n",
    "* In edit mode\n",
    "    * Ctrl + Shift + -, will split the active cell at the cursor."
   ]
  },
  {
   "cell_type": "markdown",
   "metadata": {},
   "source": [
    "## Basic python programming"
   ]
  },
  {
   "cell_type": "markdown",
   "metadata": {},
   "source": [
    "#### Import library"
   ]
  },
  {
   "cell_type": "code",
   "execution_count": null,
   "metadata": {},
   "outputs": [],
   "source": []
  },
  {
   "cell_type": "markdown",
   "metadata": {},
   "source": [
    "Matrix - numpy - documentaion"
   ]
  },
  {
   "cell_type": "markdown",
   "metadata": {},
   "source": [
    "Find your own library"
   ]
  },
  {
   "cell_type": "code",
   "execution_count": null,
   "metadata": {},
   "outputs": [],
   "source": []
  },
  {
   "cell_type": "markdown",
   "metadata": {},
   "source": [
    "#### File input/output"
   ]
  },
  {
   "cell_type": "code",
   "execution_count": null,
   "metadata": {},
   "outputs": [],
   "source": []
  },
  {
   "cell_type": "code",
   "execution_count": null,
   "metadata": {},
   "outputs": [],
   "source": []
  },
  {
   "cell_type": "markdown",
   "metadata": {},
   "source": [
    "#### Basic for/while loop and if condition"
   ]
  },
  {
   "cell_type": "code",
   "execution_count": null,
   "metadata": {},
   "outputs": [],
   "source": []
  },
  {
   "cell_type": "markdown",
   "metadata": {},
   "source": [
    "#### Function define and function call\n"
   ]
  },
  {
   "cell_type": "code",
   "execution_count": null,
   "metadata": {},
   "outputs": [],
   "source": [
    "def add(x,y)\n",
    "    return x+y"
   ]
  },
  {
   "cell_type": "code",
   "execution_count": null,
   "metadata": {},
   "outputs": [],
   "source": []
  },
  {
   "cell_type": "markdown",
   "metadata": {},
   "source": [
    "## Introduction to Networkx library"
   ]
  },
  {
   "cell_type": "markdown",
   "metadata": {},
   "source": [
    "We will use a library called `NetworkX` to deal with assignment and project. Let's first import it."
   ]
  },
  {
   "cell_type": "code",
   "execution_count": null,
   "metadata": {},
   "outputs": [],
   "source": [
    "import networkx as nx"
   ]
  },
  {
   "cell_type": "markdown",
   "metadata": {},
   "source": [
    "After importing the library, let's create a graph"
   ]
  },
  {
   "cell_type": "code",
   "execution_count": null,
   "metadata": {},
   "outputs": [],
   "source": [
    "G = nx.Graph()"
   ]
  },
  {
   "cell_type": "markdown",
   "metadata": {},
   "source": [
    "Then, add some nodes and weighted edges to this graph"
   ]
  },
  {
   "cell_type": "code",
   "execution_count": null,
   "metadata": {},
   "outputs": [],
   "source": [
    "G.add_edge('A', 'B', weight=4)\n",
    "G.add_edge('B', 'D', weight=2)\n",
    "G.add_edge('A', 'C', weight=3)\n",
    "G.add_edge('C', 'D', weight=4)"
   ]
  },
  {
   "cell_type": "markdown",
   "metadata": {},
   "source": [
    "We can visalize this graph using `matplotlib`"
   ]
  },
  {
   "cell_type": "code",
   "execution_count": null,
   "metadata": {},
   "outputs": [],
   "source": [
    "import matplotlib.pyplot as plt\n",
    "\n",
    "pos=nx.spring_layout(G)\n",
    "nx.draw(G, pos, with_labels=1, node_size=800)\n",
    "edge_labels=nx.draw_networkx_edge_labels(G,pos)"
   ]
  },
  {
   "cell_type": "markdown",
   "metadata": {},
   "source": [
    "Now, let's search for the shortest path of Graph G, from `node A` to `node D` based on the weights we specified"
   ]
  },
  {
   "cell_type": "code",
   "execution_count": null,
   "metadata": {},
   "outputs": [],
   "source": [
    "nx.shortest_path(G, 'A', 'D', weight='weight')"
   ]
  },
  {
   "cell_type": "markdown",
   "metadata": {},
   "source": [
    "Congrats! That's a very simple example of NetworkX. Try modify the code above and see what you get. "
   ]
  },
  {
   "cell_type": "markdown",
   "metadata": {},
   "source": [
    "## Exercise"
   ]
  },
  {
   "cell_type": "code",
   "execution_count": null,
   "metadata": {},
   "outputs": [],
   "source": []
  },
  {
   "cell_type": "code",
   "execution_count": null,
   "metadata": {},
   "outputs": [],
   "source": []
  },
  {
   "cell_type": "code",
   "execution_count": null,
   "metadata": {},
   "outputs": [],
   "source": []
  },
  {
   "cell_type": "code",
   "execution_count": null,
   "metadata": {},
   "outputs": [],
   "source": []
  },
  {
   "cell_type": "code",
   "execution_count": null,
   "metadata": {},
   "outputs": [],
   "source": []
  },
  {
   "cell_type": "code",
   "execution_count": null,
   "metadata": {},
   "outputs": [],
   "source": []
  },
  {
   "cell_type": "code",
   "execution_count": null,
   "metadata": {},
   "outputs": [],
   "source": []
  },
  {
   "cell_type": "code",
   "execution_count": null,
   "metadata": {},
   "outputs": [],
   "source": []
  },
  {
   "cell_type": "code",
   "execution_count": null,
   "metadata": {},
   "outputs": [],
   "source": []
  },
  {
   "cell_type": "code",
   "execution_count": null,
   "metadata": {},
   "outputs": [],
   "source": []
  },
  {
   "cell_type": "code",
   "execution_count": null,
   "metadata": {},
   "outputs": [],
   "source": []
  },
  {
   "cell_type": "markdown",
   "metadata": {},
   "source": [
    "## Conclusion\n",
    "\n",
    "Now you get familiar with basic python programming and understand how to run python in Jupyter notebook.\n",
    "\n",
    "If you want to explore more, there are abundant resources online you can search. Also here are some references you can go through.\n",
    "\n",
    "**Introduction to jupyter notebook**: https://www.dataquest.io/blog/jupyter-notebook-tutorial/\n",
    "\n",
    "**Python tutorial**: https://www.w3schools.com/python/default.asp\n",
    "\n",
    "Good luck on your project!"
   ]
  },
  {
   "cell_type": "code",
   "execution_count": null,
   "metadata": {},
   "outputs": [],
   "source": []
  }
 ],
 "metadata": {
  "kernelspec": {
   "display_name": "Python 3",
   "language": "python",
   "name": "python3"
  },
  "language_info": {
   "codemirror_mode": {
    "name": "ipython",
    "version": 3
   },
   "file_extension": ".py",
   "mimetype": "text/x-python",
   "name": "python",
   "nbconvert_exporter": "python",
   "pygments_lexer": "ipython3",
   "version": "3.7.3"
  }
 },
 "nbformat": 4,
 "nbformat_minor": 4
}
